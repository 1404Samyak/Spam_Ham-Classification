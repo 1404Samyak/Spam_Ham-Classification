{
 "cells": [
  {
   "cell_type": "code",
   "execution_count": 5,
   "metadata": {},
   "outputs": [],
   "source": [
    "import pandas as pd\n",
    "import numpy as np\n",
    "import matplotlib.pyplot as plt"
   ]
  },
  {
   "cell_type": "code",
   "execution_count": 6,
   "metadata": {},
   "outputs": [
    {
     "data": {
      "text/html": [
       "<div>\n",
       "<style scoped>\n",
       "    .dataframe tbody tr th:only-of-type {\n",
       "        vertical-align: middle;\n",
       "    }\n",
       "\n",
       "    .dataframe tbody tr th {\n",
       "        vertical-align: top;\n",
       "    }\n",
       "\n",
       "    .dataframe thead th {\n",
       "        text-align: right;\n",
       "    }\n",
       "</style>\n",
       "<table border=\"1\" class=\"dataframe\">\n",
       "  <thead>\n",
       "    <tr style=\"text-align: right;\">\n",
       "      <th></th>\n",
       "      <th>email</th>\n",
       "      <th>label</th>\n",
       "    </tr>\n",
       "  </thead>\n",
       "  <tbody>\n",
       "    <tr>\n",
       "      <th>0</th>\n",
       "      <td>Upgrade to our premium plan for exclusive acce...</td>\n",
       "      <td>ham</td>\n",
       "    </tr>\n",
       "    <tr>\n",
       "      <th>1</th>\n",
       "      <td>Happy holidays from our team! Wishing you joy ...</td>\n",
       "      <td>ham</td>\n",
       "    </tr>\n",
       "    <tr>\n",
       "      <th>2</th>\n",
       "      <td>We're hiring! Check out our career opportuniti...</td>\n",
       "      <td>ham</td>\n",
       "    </tr>\n",
       "    <tr>\n",
       "      <th>3</th>\n",
       "      <td>Your Amazon account has been locked. Click her...</td>\n",
       "      <td>spam</td>\n",
       "    </tr>\n",
       "    <tr>\n",
       "      <th>4</th>\n",
       "      <td>Your opinion matters! Take our survey and help...</td>\n",
       "      <td>ham</td>\n",
       "    </tr>\n",
       "    <tr>\n",
       "      <th>...</th>\n",
       "      <td>...</td>\n",
       "      <td>...</td>\n",
       "    </tr>\n",
       "    <tr>\n",
       "      <th>174</th>\n",
       "      <td>We're pleased to inform you that your refund h...</td>\n",
       "      <td>ham</td>\n",
       "    </tr>\n",
       "    <tr>\n",
       "      <th>175</th>\n",
       "      <td>Get rich quick! Invest in our revolutionary ne...</td>\n",
       "      <td>spam</td>\n",
       "    </tr>\n",
       "    <tr>\n",
       "      <th>176</th>\n",
       "      <td>Your free trial period is ending soon. Upgrade...</td>\n",
       "      <td>ham</td>\n",
       "    </tr>\n",
       "    <tr>\n",
       "      <th>177</th>\n",
       "      <td>Your order is on its way! Track your shipment ...</td>\n",
       "      <td>ham</td>\n",
       "    </tr>\n",
       "    <tr>\n",
       "      <th>178</th>\n",
       "      <td>Limited-time offer! Get 50% off on all purchas...</td>\n",
       "      <td>spam</td>\n",
       "    </tr>\n",
       "  </tbody>\n",
       "</table>\n",
       "<p>179 rows × 2 columns</p>\n",
       "</div>"
      ],
      "text/plain": [
       "                                                 email label\n",
       "0    Upgrade to our premium plan for exclusive acce...   ham\n",
       "1    Happy holidays from our team! Wishing you joy ...   ham\n",
       "2    We're hiring! Check out our career opportuniti...   ham\n",
       "3    Your Amazon account has been locked. Click her...  spam\n",
       "4    Your opinion matters! Take our survey and help...   ham\n",
       "..                                                 ...   ...\n",
       "174  We're pleased to inform you that your refund h...   ham\n",
       "175  Get rich quick! Invest in our revolutionary ne...  spam\n",
       "176  Your free trial period is ending soon. Upgrade...   ham\n",
       "177  Your order is on its way! Track your shipment ...   ham\n",
       "178  Limited-time offer! Get 50% off on all purchas...  spam\n",
       "\n",
       "[179 rows x 2 columns]"
      ]
     },
     "execution_count": 6,
     "metadata": {},
     "output_type": "execute_result"
    }
   ],
   "source": [
    "data=pd.read_csv('email_classification.csv')\n",
    "data"
   ]
  },
  {
   "cell_type": "code",
   "execution_count": 7,
   "metadata": {},
   "outputs": [
    {
     "name": "stdout",
     "output_type": "stream",
     "text": [
      "['Upgrade to our premium plan for exclusive access to premium content and features.', 'Happy holidays from our team! Wishing you joy and prosperity this season.', \"We're hiring! Check out our career opportunities and join our dynamic team.\", 'Your Amazon account has been locked. Click here to verify your account information.', 'Your opinion matters! Take our survey and help us enhance your experience.', 'Your payment has been received. Thank you for your prompt transaction.', 'Your email account storage is full. Click here to upgrade your account.', \"Dear [Name], thank you for subscribing to our newsletter. Here's your welcome gift!\", 'Your account has been credited with loyalty points. Redeem them for exciting rewards!', \"You've been chosen for a free iPhone. Click here to claim your prize!\", \"Don't miss out on our special offer! Sign up now and get a discount on your first purchase.\", \"We're hiring interns for the summer. Apply now and gain valuable experience.\", \"You're pre-approved for a loan. Click here to apply now!\", \"We're thrilled to introduce our new collection. Shop now and enjoy exclusive discounts!\", \"We're excited to announce our upcoming webinar series. Register now to reserve your spot!\", \"We've added new features to our app based on your feedback. Update now!\", \"You're a winner! Click here to claim your exclusive prize.\", 'Your Facebook account has been hacked. Click here to secure your account.', \"Congratulations on reaching a new milestone! Here's to many more achievements.\", \"Congratulations! You've been selected for a job interview. Click here to schedule your interview.\", 'Your account has been suspended due to suspicious activity. Click here to unlock your account.', 'Get ready for our flash sale! Limited-time offers on your favorite products.', \"Thank you for your feedback. We're always striving to improve our services.\", 'Your PayPal account has been suspended. Click here to restore your account access.', \"You've won a luxury car! Click here to claim your prize.\", \"We've extended our sale for one more day! Don't miss your chance to save big.\", 'Your account has been flagged for suspicious activity. Click here to verify your identity.', \"We're sorry for the inconvenience. Our website will be back online shortly.\", \"Thank you for your recent purchase. Here's a special offer for you.\", 'Get instant cash now! Click here to access our quick loan service.', \"We're here to help you with any questions or concerns you may have.\", 'Your account has been banned. Click here to appeal the ban.', \"Congratulations! You've won a free vacation to a tropical paradise! Claim now!\", 'Your account has been pre-approved for a credit card. Click here to apply now!', \"We're sorry to see you go. Let us know if there's anything we can do to improve.\", \"You've been selected for a free trial of our premium membership. Click here to sign up!\", \"You've been selected for a free trial of our premium service. Click here to activate now!\", \"We're committed to sustainability. Learn more about our eco-friendly initiatives.\", \"We're hiring! Check out our careers page for current job openings.\", \"We're sorry for the inconvenience. Our website will be undergoing maintenance tonight.\", 'Your account has been credited with bonus points. Use them to unlock exclusive rewards!', \"We appreciate your business. Here's a token of our appreciation.\", 'We value your feedback. Share your thoughts with us.', \"Thank you for your loyalty. Here's a special discount code as a token of our appreciation.\", 'Thank you for your purchase. Your order will be delivered within the next few days.', 'Your account has been hacked. Click here to reset your password.', 'Get ready for our annual sale! Big savings await you.', \"You've been selected for a free iPhone X. Click here to claim your prize!\", \"Congratulations! You've won a free trip to Europe. Click here to claim your prize!\", \"This is to inform you about the schedule change for tomorrow's meeting. Please take note.\", \"You've been selected for a special prize. Click here to claim your reward!\", \"You've been selected for a free trial of our premium service. Click here to activate now!\", \"You've been selected for a free trial of our premium service. Click here to activate now!\", 'Upgrade to our premium membership for exclusive benefits and personalized recommendations.', \"You've won a luxury car! Click here to claim your prize.\", \"We've updated our app with new features. Update now for an enhanced user experience.\", 'Your opinion matters! Take our survey and get a chance to win exciting prizes.', 'Get instant cash now! Click here to access our quick loan service.', \"We're excited to announce our latest product release. Check it out!\", 'Your computer has been infected with a virus. Click here to download our antivirus software.', 'Your account has been pre-approved for a credit card. Click here to apply now!', \"Your subscription renewal is due. Don't forget to update your payment information.\", 'Get rich quick! Click here to join our exclusive investment program.', \"Don't miss out on our limited-time offer. Shop now and save.\", 'We value your privacy. Review our updated privacy policy for more information.', \"You've been selected for a free iPhone X. Click here to claim your prize!\", 'Your account has been compromised. Click here to secure your account.', \"Congratulations! You're our lucky winner of the day. Click here to claim your prize!\", \"We're hosting a webinar next week. Register now to secure your spot!\", 'Your order has been successfully processed. It will be shipped out today.', \"We're experiencing high call volumes. You can reach us faster by using our online chat.\", 'Your Netflix subscription has expired. Click here to renew now!', 'Good morning! Attached is the report you requested. Have a great day!', 'Thank you for attending our workshop. Here are the presentation slides for your reference.', \"We're excited to share our latest product updates with you. Check them out now!\", 'Act fast! Limited-time offer on designer handbags. Click here to shop now!', 'Claim your prize now! Click here to confirm your winnings.', 'Just a friendly reminder to renew your subscription before it expires.', 'Act now! Limited-time offer on luxury watches. Click here to buy now!', \"Congratulations! You're the lucky winner of our holiday giveaway. Click here to claim your prize!\", 'Thank you for your inquiry. We appreciate your interest in our products.', 'Get rich overnight! Click here to learn our secret money-making method.', 'Your satisfaction is our priority. Let us know how we can serve you better.', 'Thank you for your patience. Our technical team has resolved the issue. Happy browsing!', 'Dear [Name], your account subscription has expired. Renew now to continue enjoying our services.', 'URGENT: Your account has been compromised. Click here to reset your password immediately.', 'Your annual membership has been renewed. Enjoy another year of exclusive benefits.', \"We're excited to share our latest blog post with you. Check it out for valuable insights.\", 'Your account has been banned. Click here to appeal the ban.', \"You've won a luxury cruise! Click here to claim your tickets.\", \"We've detected unusual activity on your account. Secure it by changing your password.\", 'Your package is out for delivery. Track your shipment using the link provided.', \"You've won a shopping spree! Click here to claim your voucher.\", 'Your account has been upgraded to VIP status. Enjoy enhanced benefits and privileges.', \"Thank you for subscribing to our newsletter. Here's a special offer just for you!\", 'Our team is here to help you. Contact us anytime for assistance.', 'Stay connected with us! Follow our social media channels for the latest updates.', 'Your account has been hacked. Click here to reset your password.', 'Stay informed with our latest blog posts. Subscribe to our newsletter today.', 'Your account has been credited with bonus points. Click here to redeem your rewards.', \"Congratulations! You're the winner of our daily giveaway. Click here to claim your reward!\", 'Your PayPal account has been locked. Click here to restore your account access.', 'Your trial period has ended. Upgrade to a premium plan for unlimited access.', 'Stay connected with our latest updates. Follow us on social media.', \"Congratulations! You've been selected for a free trial of our premium software. Click here to download now!\", \"Congratulations! You've been selected for a free trial of our premium software. Click here to download now!\", \"Your order is confirmed. You'll receive a confirmation email shortly with the details.\", \"We're committed to providing excellent service. Your feedback helps us improve.\", 'Dear [Name], your account has been upgraded to premium status. Enjoy the perks!', 'Your feedback matters to us. Take our survey and help us serve you better.', \"Congratulations! You're the winner of our daily giveaway. Click here to claim your reward!\", 'Claim your prize now! Click here to confirm your winnings.', 'Stay in the loop with our newsletter. Subscribe now for the latest news and updates.', \"You've been selected for a free trial of our premium service. Click here to activate now!\", 'Get exclusive access to our VIP club. Click here to join now!', \"You're our lucky winner! Click here to claim your jackpot prize.\", 'Your bank account has been suspended. Click here to verify your account details.', \"We're here to help! Contact our customer support team for assistance.\", \"We're excited to announce our new product launch. Check it out on our website!\", 'Unlock exclusive discounts! Click here to join our loyalty program.', \"Dear valued customer, here's a special discount code for your next purchase: XYZ123.\", 'Get rich overnight! Click here to learn our secret money-making method.', \"We're excited to announce our partnership with [Company]. Stay tuned for exciting collaborations!\", \"We've reached a milestone! Thank you for being part of our journey.\", \"We're pleased to announce our partnership with [Company]. Together, we'll achieve great things!\", \"We're hosting a giveaway on our social media channels. Follow us for a chance to win!\", \"We've launched a new feature based on user feedback. Try it out and let us know what you think!\", \"We've upgraded our servers for faster performance. Enjoy smoother browsing!\", 'Congratulations on your recent achievement! Keep up the great work!', 'Claim your inheritance now! Click here to access your funds.', \"We're committed to your satisfaction. Let us know how we can improve.\", \"We're excited to share our latest updates with you. Stay tuned for more news!\", \"Congratulations! You're the lucky winner of our holiday giveaway. Click here to claim your prize!\", \"You're invited to a special event. Click here to RSVP now!\", \"Thank you for your loyalty. Here's a special discount for being a valued customer.\", \"We hope you're enjoying your subscription. Let us know if you have any questions.\", 'Dear [Name], your account balance is now updated. Please review the details.', \"We're celebrating our anniversary! Join us for special offers and giveaways all week long.\", 'Your email account storage is full. Click here to upgrade your account.', \"You're invited to a special event. Click here to RSVP now!\", \"We're here to assist you. Contact our support team if you need any help.\", \"Don't miss our end-of-season sale! Grab your favorite items at discounted prices.\", 'Your account has been credited with bonus points. Click here to redeem your rewards.', 'Your Facebook account has been hacked. Click here to secure your account.', 'Your account has been flagged for suspicious activity. Click here to verify your identity.', \"You've won a shopping spree! Click here to claim your voucher.\", \"We're extending our sale for one more day due to popular demand. Don't miss out!\", \"We're hosting a live Q&A session tomorrow. Submit your questions in advance!\", \"You've won a lottery! Click here to claim your million-dollar prize!\", \"Congratulations on your recent purchase! Here's a voucher for your next order.\", 'Get rich quick! Click here to join our exclusive investment program.', 'Your account has been credited with bonus points for your recent purchase. Enjoy!', 'Get ready for our annual sale! Huge discounts on a wide range of products.', \"We're sorry for the inconvenience. Our technical team is working on resolving the issue.\", \"Your account login was successful. If this wasn't you, please contact us immediately.\", \"We're thrilled to announce our partnership with [Organization]. Together, we'll make a difference!\", 'Your account has been suspended due to suspicious activity. Click here to unlock your account.', 'Your Netflix subscription has expired. Click here to renew now!', \"We're experiencing technical difficulties. Our team is working to resolve the issue ASAP.\", 'Act fast! Limited-time offer on designer handbags. Click here to shop now!', \"You've won a luxury cruise! Click here to claim your tickets.\", \"Hello! Just wanted to remind you about our upcoming event. Don't miss it!\", 'Your account password has been reset successfully. Please login with the new password.', \"You've won a shopping spree! Click here to claim your voucher.\", 'Unlock exclusive discounts! Click here to join our loyalty program.', 'Act fast! Limited-time offer on luxury watches. Click here to buy now!', 'Make money fast! Join our affiliate program and start earning cash today!', \"Congratulations! You've been selected for a special offer. Enjoy!\", 'Your credit card has been charged for unauthorized purchases. Click here to dispute the charges.', \"Congratulations on your recent purchase! Here's a special offer for your next order.\", 'Your account has been credited with bonus points for your continued support. Thank you!', \"You've been chosen for a free iPhone. Click here to claim your prize!\", \"Congratulations! You've won a free trip to Europe. Click here to claim your prize!\", 'Introducing our loyalty program. Earn points with every purchase and redeem rewards!', \"We're pleased to inform you that your refund has been processed successfully.\", 'Get rich quick! Invest in our revolutionary new scheme and retire early!', 'Your free trial period is ending soon. Upgrade now to continue enjoying our services.', 'Your order is on its way! Track your shipment for real-time updates.', \"Limited-time offer! Get 50% off on all purchases today only. Don't miss out!\"]\n"
     ]
    }
   ],
   "source": [
    "corpus=[]\n",
    "for i in range(179):\n",
    "    corpus.append(data.iloc[i,0])\n",
    "print(corpus)"
   ]
  },
  {
   "cell_type": "markdown",
   "metadata": {},
   "source": [
    "### So corpus is our list of sentences which we need to convert into numerical data but after removing stopwords and lemmatizing each word from each sentence"
   ]
  },
  {
   "cell_type": "code",
   "execution_count": 19,
   "metadata": {},
   "outputs": [],
   "source": [
    "import nltk\n",
    "from nltk.tokenize import word_tokenize\n",
    "from nltk.stem import WordNetLemmatizer\n",
    "from nltk.corpus import stopwords\n",
    "Lemmatizer=WordNetLemmatizer()"
   ]
  },
  {
   "cell_type": "code",
   "execution_count": 17,
   "metadata": {},
   "outputs": [
    {
     "name": "stdout",
     "output_type": "stream",
     "text": [
      "{'are', 'herself', 'any', 'should', \"haven't\", 'mightn', 'than', 'after', 'nor', 'isn', 'but', 'aren', 'further', 'didn', 'being', \"aren't\", 'needn', 'as', \"you'd\", 'ma', 're', 'our', 'did', 'to', 'which', 'few', 'own', 'yourselves', 'once', 'its', 'you', 'theirs', \"weren't\", \"she's\", \"doesn't\", 'does', 'my', 'most', 'while', 'not', 'that', 'into', 'how', 'hadn', 'ain', 'of', \"don't\", 'in', \"wouldn't\", 'no', \"didn't\", \"isn't\", 'at', 'between', 'y', 'd', 'do', 'doing', 'what', 'through', 'he', 'been', 'me', 'during', 'both', 'up', 'who', 'just', \"mustn't\", 'itself', \"needn't\", \"you'll\", 'and', 'has', \"hasn't\", 'had', 'whom', \"should've\", 'wouldn', 'or', 'where', 'too', 'we', 'until', 'hers', 'him', 'having', 'there', 'now', 'these', 'i', 'over', 'why', 'each', 'off', \"you're\", 'hasn', 've', 'was', 'because', 'don', 'am', 'other', 'is', 'it', 'shan', 'an', 'above', 'shouldn', 'her', 'the', 'a', 'same', 'myself', 'only', \"shouldn't\", 'their', 'have', 'about', 'here', 'below', \"it's\", 'weren', 'if', 'ourselves', 'from', 'won', 'couldn', 'mustn', 'so', 'will', 'on', 'down', 'can', 'this', 'o', 'your', 'those', \"couldn't\", 'yours', 'themselves', 'then', 'against', 'such', 't', 'wasn', \"wasn't\", \"hadn't\", \"won't\", 'when', 'them', 's', 'more', 'again', 'his', 'be', 'ours', 'some', 'doesn', 'she', 'they', 'll', 'haven', 'before', 'all', 'by', 'out', 'himself', \"that'll\", \"mightn't\", \"shan't\", 'very', 'yourself', 'for', 'under', 'were', 'm', 'with', \"you've\"}\n"
     ]
    }
   ],
   "source": [
    "print(set(stopwords.words('english')))"
   ]
  },
  {
   "cell_type": "code",
   "execution_count": 21,
   "metadata": {},
   "outputs": [
    {
     "name": "stdout",
     "output_type": "stream",
     "text": [
      "['Upgrade premium plan exclusive access premium content features.', 'Happy holiday team! Wishing joy prosperity season.', \"We're hiring! Check career opportunity join dynamic team.\", 'Your Amazon account locked. Click verify account information.', 'Your opinion matters! Take survey help u enhance experience.', 'Your payment received. Thank prompt transaction.', 'Your email account storage full. Click upgrade account.', \"Dear [Name], thank subscribing newsletter. Here's welcome gift!\", 'Your account credited loyalty points. Redeem exciting rewards!', \"You've chosen free iPhone. Click claim prize!\", \"Don't miss special offer! Sign get discount first purchase.\", \"We're hiring intern summer. Apply gain valuable experience.\", \"You're pre-approved loan. Click apply now!\", \"We're thrilled introduce new collection. Shop enjoy exclusive discounts!\", \"We're excited announce upcoming webinar series. Register reserve spot!\", \"We've added new feature app based feedback. Update now!\", \"You're winner! Click claim exclusive prize.\", 'Your Facebook account hacked. Click secure account.', \"Congratulations reaching new milestone! Here's many achievements.\", \"Congratulations! You've selected job interview. Click schedule interview.\", 'Your account suspended due suspicious activity. Click unlock account.', 'Get ready flash sale! Limited-time offer favorite products.', \"Thank feedback. We're always striving improve services.\", 'Your PayPal account suspended. Click restore account access.', \"You've luxury car! Click claim prize.\", \"We've extended sale one day! Don't miss chance save big.\", 'Your account flagged suspicious activity. Click verify identity.', \"We're sorry inconvenience. Our website back online shortly.\", \"Thank recent purchase. Here's special offer you.\", 'Get instant cash now! Click access quick loan service.', \"We're help question concern may have.\", 'Your account banned. Click appeal ban.', \"Congratulations! You've free vacation tropical paradise! Claim now!\", 'Your account pre-approved credit card. Click apply now!', \"We're sorry see go. Let u know there's anything improve.\", \"You've selected free trial premium membership. Click sign up!\", \"You've selected free trial premium service. Click activate now!\", \"We're committed sustainability. Learn eco-friendly initiatives.\", \"We're hiring! Check career page current job openings.\", \"We're sorry inconvenience. Our website undergoing maintenance tonight.\", 'Your account credited bonus points. Use unlock exclusive rewards!', \"We appreciate business. Here's token appreciation.\", 'We value feedback. Share thought us.', \"Thank loyalty. Here's special discount code token appreciation.\", 'Thank purchase. Your order delivered within next days.', 'Your account hacked. Click reset password.', 'Get ready annual sale! Big saving await you.', \"You've selected free iPhone X. Click claim prize!\", \"Congratulations! You've free trip Europe. Click claim prize!\", \"This inform schedule change tomorrow's meeting. Please take note.\", \"You've selected special prize. Click claim reward!\", \"You've selected free trial premium service. Click activate now!\", \"You've selected free trial premium service. Click activate now!\", 'Upgrade premium membership exclusive benefit personalized recommendations.', \"You've luxury car! Click claim prize.\", \"We've updated app new features. Update enhanced user experience.\", 'Your opinion matters! Take survey get chance win exciting prizes.', 'Get instant cash now! Click access quick loan service.', \"We're excited announce latest product release. Check out!\", 'Your computer infected virus. Click download antivirus software.', 'Your account pre-approved credit card. Click apply now!', \"Your subscription renewal due. Don't forget update payment information.\", 'Get rich quick! Click join exclusive investment program.', \"Don't miss limited-time offer. Shop save.\", 'We value privacy. Review updated privacy policy information.', \"You've selected free iPhone X. Click claim prize!\", 'Your account compromised. Click secure account.', \"Congratulations! You're lucky winner day. Click claim prize!\", \"We're hosting webinar next week. Register secure spot!\", 'Your order successfully processed. It shipped today.', \"We're experiencing high call volumes. You reach u faster using online chat.\", 'Your Netflix subscription expired. Click renew now!', 'Good morning! Attached report requested. Have great day!', 'Thank attending workshop. Here presentation slide reference.', \"We're excited share latest product update you. Check now!\", 'Act fast! Limited-time offer designer handbags. Click shop now!', 'Claim prize now! Click confirm winnings.', 'Just friendly reminder renew subscription expires.', 'Act now! Limited-time offer luxury watches. Click buy now!', \"Congratulations! You're lucky winner holiday giveaway. Click claim prize!\", 'Thank inquiry. We appreciate interest products.', 'Get rich overnight! Click learn secret money-making method.', 'Your satisfaction priority. Let u know serve better.', 'Thank patience. Our technical team resolved issue. Happy browsing!', 'Dear [Name], account subscription expired. Renew continue enjoying services.', 'URGENT: Your account compromised. Click reset password immediately.', 'Your annual membership renewed. Enjoy another year exclusive benefits.', \"We're excited share latest blog post you. Check valuable insights.\", 'Your account banned. Click appeal ban.', \"You've luxury cruise! Click claim tickets.\", \"We've detected unusual activity account. Secure changing password.\", 'Your package delivery. Track shipment using link provided.', \"You've shopping spree! Click claim voucher.\", 'Your account upgraded VIP status. Enjoy enhanced benefit privileges.', \"Thank subscribing newsletter. Here's special offer you!\", 'Our team help you. Contact u anytime assistance.', 'Stay connected us! Follow social medium channel latest updates.', 'Your account hacked. Click reset password.', 'Stay informed latest blog posts. Subscribe newsletter today.', 'Your account credited bonus points. Click redeem rewards.', \"Congratulations! You're winner daily giveaway. Click claim reward!\", 'Your PayPal account locked. Click restore account access.', 'Your trial period ended. Upgrade premium plan unlimited access.', 'Stay connected latest updates. Follow u social media.', \"Congratulations! You've selected free trial premium software. Click download now!\", \"Congratulations! You've selected free trial premium software. Click download now!\", \"Your order confirmed. You'll receive confirmation email shortly details.\", \"We're committed providing excellent service. Your feedback help u improve.\", 'Dear [Name], account upgraded premium status. Enjoy perks!', 'Your feedback matter us. Take survey help u serve better.', \"Congratulations! You're winner daily giveaway. Click claim reward!\", 'Claim prize now! Click confirm winnings.', 'Stay loop newsletter. Subscribe latest news updates.', \"You've selected free trial premium service. Click activate now!\", 'Get exclusive access VIP club. Click join now!', \"You're lucky winner! Click claim jackpot prize.\", 'Your bank account suspended. Click verify account details.', \"We're help! Contact customer support team assistance.\", \"We're excited announce new product launch. Check website!\", 'Unlock exclusive discounts! Click join loyalty program.', \"Dear valued customer, here's special discount code next purchase: XYZ123.\", 'Get rich overnight! Click learn secret money-making method.', \"We're excited announce partnership [Company]. Stay tuned exciting collaborations!\", \"We've reached milestone! Thank part journey.\", \"We're pleased announce partnership [Company]. Together, we'll achieve great things!\", \"We're hosting giveaway social medium channels. Follow u chance win!\", \"We've launched new feature based user feedback. Try let u know think!\", \"We've upgraded server faster performance. Enjoy smoother browsing!\", 'Congratulations recent achievement! Keep great work!', 'Claim inheritance now! Click access funds.', \"We're committed satisfaction. Let u know improve.\", \"We're excited share latest update you. Stay tuned news!\", \"Congratulations! You're lucky winner holiday giveaway. Click claim prize!\", \"You're invited special event. Click RSVP now!\", \"Thank loyalty. Here's special discount valued customer.\", 'We hope enjoying subscription. Let u know questions.', 'Dear [Name], account balance updated. Please review details.', \"We're celebrating anniversary! Join u special offer giveaway week long.\", 'Your email account storage full. Click upgrade account.', \"You're invited special event. Click RSVP now!\", \"We're assist you. Contact support team need help.\", \"Don't miss end-of-season sale! Grab favorite item discounted prices.\", 'Your account credited bonus points. Click redeem rewards.', 'Your Facebook account hacked. Click secure account.', 'Your account flagged suspicious activity. Click verify identity.', \"You've shopping spree! Click claim voucher.\", \"We're extending sale one day due popular demand. Don't miss out!\", \"We're hosting live Q&A session tomorrow. Submit question advance!\", \"You've lottery! Click claim million-dollar prize!\", \"Congratulations recent purchase! Here's voucher next order.\", 'Get rich quick! Click join exclusive investment program.', 'Your account credited bonus point recent purchase. Enjoy!', 'Get ready annual sale! Huge discount wide range products.', \"We're sorry inconvenience. Our technical team working resolving issue.\", 'Your account login successful. If you, please contact u immediately.', \"We're thrilled announce partnership [Organization]. Together, we'll make difference!\", 'Your account suspended due suspicious activity. Click unlock account.', 'Your Netflix subscription expired. Click renew now!', \"We're experiencing technical difficulties. Our team working resolve issue ASAP.\", 'Act fast! Limited-time offer designer handbags. Click shop now!', \"You've luxury cruise! Click claim tickets.\", \"Hello! Just wanted remind upcoming event. Don't miss it!\", 'Your account password reset successfully. Please login new password.', \"You've shopping spree! Click claim voucher.\", 'Unlock exclusive discounts! Click join loyalty program.', 'Act fast! Limited-time offer luxury watches. Click buy now!', 'Make money fast! Join affiliate program start earning cash today!', \"Congratulations! You've selected special offer. Enjoy!\", 'Your credit card charged unauthorized purchases. Click dispute charges.', \"Congratulations recent purchase! Here's special offer next order.\", 'Your account credited bonus point continued support. Thank you!', \"You've chosen free iPhone. Click claim prize!\", \"Congratulations! You've free trip Europe. Click claim prize!\", 'Introducing loyalty program. Earn point every purchase redeem rewards!', \"We're pleased inform refund processed successfully.\", 'Get rich quick! Invest revolutionary new scheme retire early!', 'Your free trial period ending soon. Upgrade continue enjoying services.', 'Your order way! Track shipment real-time updates.', \"Limited-time offer! Get 50% purchase today only. Don't miss out!\"]\n"
     ]
    }
   ],
   "source": [
    "documents=[]\n",
    "for sentence in corpus:\n",
    "    words=sentence.split()\n",
    "    words=[Lemmatizer.lemmatize(word) for word in words if word not in set(stopwords.words('english'))]\n",
    "    sentence=\" \".join(words)\n",
    "    documents.append(sentence)\n",
    "print(documents)"
   ]
  },
  {
   "cell_type": "code",
   "execution_count": 22,
   "metadata": {},
   "outputs": [
    {
     "data": {
      "text/plain": [
       "OllamaEmbeddings(model='gemma:2b', base_url=None, client_kwargs={})"
      ]
     },
     "execution_count": 22,
     "metadata": {},
     "output_type": "execute_result"
    }
   ],
   "source": [
    "from langchain_ollama import OllamaEmbeddings\n",
    "embeddings=OllamaEmbeddings(model='gemma:2b')\n",
    "embeddings"
   ]
  },
  {
   "cell_type": "code",
   "execution_count": null,
   "metadata": {},
   "outputs": [],
   "source": [
    "X=embeddings.embed_documents(corpus)"
   ]
  },
  {
   "cell_type": "code",
   "execution_count": null,
   "metadata": {},
   "outputs": [],
   "source": []
  }
 ],
 "metadata": {
  "kernelspec": {
   "display_name": "myenv",
   "language": "python",
   "name": "python3"
  },
  "language_info": {
   "codemirror_mode": {
    "name": "ipython",
    "version": 3
   },
   "file_extension": ".py",
   "mimetype": "text/x-python",
   "name": "python",
   "nbconvert_exporter": "python",
   "pygments_lexer": "ipython3",
   "version": "3.12.5"
  }
 },
 "nbformat": 4,
 "nbformat_minor": 2
}
